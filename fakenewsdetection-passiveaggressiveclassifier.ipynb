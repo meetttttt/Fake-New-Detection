{
 "cells": [
  {
   "cell_type": "markdown",
   "id": "422b1a19",
   "metadata": {
    "papermill": {
     "duration": 0.029248,
     "end_time": "2021-12-13T06:42:21.958858",
     "exception": false,
     "start_time": "2021-12-13T06:42:21.929610",
     "status": "completed"
    },
    "tags": []
   },
   "source": [
    "# Fake News Detection using PassiveAggressiveClassifier\n",
    "> ### What is Fake News?\n",
    "> ### What is a TfidfVectorizer?\n",
    "> ### What is a PassiveAggressiveClassifier?\n",
    "> ### About Dataset"
   ]
  },
  {
   "cell_type": "markdown",
   "id": "f90aa175",
   "metadata": {
    "papermill": {
     "duration": 0.027066,
     "end_time": "2021-12-13T06:42:22.014307",
     "exception": false,
     "start_time": "2021-12-13T06:42:21.987241",
     "status": "completed"
    },
    "tags": []
   },
   "source": [
    "- What is Fake News?\n",
    ">A type of yellow journalism, fake news encapsulates pieces of news that may be hoaxes and is generally spread through social media and other online media. This is often done to further or impose certain ideas and is often achieved with political agendas. Such news items may contain false and/or exaggerated claims, and may end up being viralized by algorithms, and users may end up in a filter bubble.\n"
   ]
  },
  {
   "cell_type": "markdown",
   "id": "ac34d801",
   "metadata": {
    "papermill": {
     "duration": 0.027805,
     "end_time": "2021-12-13T06:42:22.069235",
     "exception": false,
     "start_time": "2021-12-13T06:42:22.041430",
     "status": "completed"
    },
    "tags": []
   },
   "source": [
    "- What is TfidVectoizer?\n",
    ">  ##### TF (Term Frequency): The number of times a word appears in a document is its Term Frequency. A higher value means a term appears more often than others, and so, the document is a good match when the term is part of the search terms.\n",
    ">  ##### IDF (Inverse Document Frequency): Words that occur many times a document, but also occur many times in many others, may be irrelevant. IDF is a measure of how significant a term is in the entire corpus.\n",
    ">  ##### The TfidfVectorizer converts a collection of raw documents into a matrix of TF-IDF features."
   ]
  },
  {
   "cell_type": "markdown",
   "id": "610882a3",
   "metadata": {
    "papermill": {
     "duration": 0.027481,
     "end_time": "2021-12-13T06:42:22.124039",
     "exception": false,
     "start_time": "2021-12-13T06:42:22.096558",
     "status": "completed"
    },
    "tags": []
   },
   "source": [
    "- What is Passive Aggressive Classifier?\n",
    "> Passive Aggressive algorithms are online learning algorithms. Such an algorithm remains passive for a correct classification outcome, and turns aggressive in the event of a miscalculation, updating and adjusting. Unlike most other algorithms, it does not converge. Its purpose is to make updates that correct the loss, causing very little change in the norm of the weight vector."
   ]
  },
  {
   "cell_type": "markdown",
   "id": "32a2ebcd",
   "metadata": {
    "papermill": {
     "duration": 0.026957,
     "end_time": "2021-12-13T06:42:22.178078",
     "exception": false,
     "start_time": "2021-12-13T06:42:22.151121",
     "status": "completed"
    },
    "tags": []
   },
   "source": [
    "- About dataset:\n",
    "\n",
    "> This dataset has a shape of 7796×4. \n",
    "\n",
    "> The first column identifies the news.\n",
    "\n",
    "> The second and third are the title and text.\n",
    "\n",
    "> The fourth column has labels denoting whether the news is REAL or FAKE. "
   ]
  },
  {
   "cell_type": "markdown",
   "id": "452abc3b",
   "metadata": {
    "papermill": {
     "duration": 0.026928,
     "end_time": "2021-12-13T06:42:22.232543",
     "exception": false,
     "start_time": "2021-12-13T06:42:22.205615",
     "status": "completed"
    },
    "tags": []
   },
   "source": [
    "Step 1: Import Necessary Library"
   ]
  },
  {
   "cell_type": "code",
   "execution_count": 1,
   "id": "4e2fb9b0",
   "metadata": {
    "execution": {
     "iopub.execute_input": "2021-12-13T06:42:22.299287Z",
     "iopub.status.busy": "2021-12-13T06:42:22.298565Z",
     "iopub.status.idle": "2021-12-13T06:42:23.292011Z",
     "shell.execute_reply": "2021-12-13T06:42:23.291407Z",
     "shell.execute_reply.started": "2021-12-13T06:40:53.269953Z"
    },
    "papermill": {
     "duration": 1.032009,
     "end_time": "2021-12-13T06:42:23.292168",
     "exception": false,
     "start_time": "2021-12-13T06:42:22.260159",
     "status": "completed"
    },
    "tags": []
   },
   "outputs": [],
   "source": [
    "import numpy as np\n",
    "import pandas as pd\n",
    "import itertools\n",
    "import plotly.graph_objects as go\n",
    "from sklearn.model_selection import train_test_split\n",
    "from sklearn.feature_extraction.text import TfidfVectorizer\n",
    "from sklearn.linear_model import PassiveAggressiveClassifier\n",
    "from sklearn.metrics import classification_report\n",
    "from sklearn.metrics import accuracy_score, confusion_matrix"
   ]
  },
  {
   "cell_type": "markdown",
   "id": "0c24fef9",
   "metadata": {
    "papermill": {
     "duration": 0.049046,
     "end_time": "2021-12-13T06:42:23.375943",
     "exception": false,
     "start_time": "2021-12-13T06:42:23.326897",
     "status": "completed"
    },
    "tags": []
   },
   "source": [
    "Step 2: Load the dataset"
   ]
  },
  {
   "cell_type": "code",
   "execution_count": 2,
   "id": "1d73f5f5",
   "metadata": {
    "execution": {
     "iopub.execute_input": "2021-12-13T06:42:23.451733Z",
     "iopub.status.busy": "2021-12-13T06:42:23.451210Z",
     "iopub.status.idle": "2021-12-13T06:42:24.240540Z",
     "shell.execute_reply": "2021-12-13T06:42:24.240005Z",
     "shell.execute_reply.started": "2021-12-13T06:40:54.197740Z"
    },
    "papermill": {
     "duration": 0.822106,
     "end_time": "2021-12-13T06:42:24.240682",
     "exception": false,
     "start_time": "2021-12-13T06:42:23.418576",
     "status": "completed"
    },
    "tags": []
   },
   "outputs": [],
   "source": [
    "df=pd.read_csv('../input/textdb3/fake_or_real_news.csv')"
   ]
  },
  {
   "cell_type": "markdown",
   "id": "a836883b",
   "metadata": {
    "papermill": {
     "duration": 0.027042,
     "end_time": "2021-12-13T06:42:24.296270",
     "exception": false,
     "start_time": "2021-12-13T06:42:24.269228",
     "status": "completed"
    },
    "tags": []
   },
   "source": [
    "Step 3: Exploring dataset"
   ]
  },
  {
   "cell_type": "code",
   "execution_count": 3,
   "id": "bb032cf2",
   "metadata": {
    "execution": {
     "iopub.execute_input": "2021-12-13T06:42:24.357238Z",
     "iopub.status.busy": "2021-12-13T06:42:24.356564Z",
     "iopub.status.idle": "2021-12-13T06:42:24.359623Z",
     "shell.execute_reply": "2021-12-13T06:42:24.360034Z",
     "shell.execute_reply.started": "2021-12-13T06:40:55.027478Z"
    },
    "papermill": {
     "duration": 0.036616,
     "end_time": "2021-12-13T06:42:24.360156",
     "exception": false,
     "start_time": "2021-12-13T06:42:24.323540",
     "status": "completed"
    },
    "tags": []
   },
   "outputs": [
    {
     "data": {
      "text/plain": [
       "(6335, 4)"
      ]
     },
     "execution_count": 3,
     "metadata": {},
     "output_type": "execute_result"
    }
   ],
   "source": [
    "# Get shape of the dataset\n",
    "df.shape"
   ]
  },
  {
   "cell_type": "code",
   "execution_count": 4,
   "id": "86e01bcc",
   "metadata": {
    "execution": {
     "iopub.execute_input": "2021-12-13T06:42:24.420541Z",
     "iopub.status.busy": "2021-12-13T06:42:24.420051Z",
     "iopub.status.idle": "2021-12-13T06:42:24.432866Z",
     "shell.execute_reply": "2021-12-13T06:42:24.432404Z",
     "shell.execute_reply.started": "2021-12-13T06:40:55.036796Z"
    },
    "papermill": {
     "duration": 0.045068,
     "end_time": "2021-12-13T06:42:24.432989",
     "exception": false,
     "start_time": "2021-12-13T06:42:24.387921",
     "status": "completed"
    },
    "tags": []
   },
   "outputs": [
    {
     "data": {
      "text/html": [
       "<div>\n",
       "<style scoped>\n",
       "    .dataframe tbody tr th:only-of-type {\n",
       "        vertical-align: middle;\n",
       "    }\n",
       "\n",
       "    .dataframe tbody tr th {\n",
       "        vertical-align: top;\n",
       "    }\n",
       "\n",
       "    .dataframe thead th {\n",
       "        text-align: right;\n",
       "    }\n",
       "</style>\n",
       "<table border=\"1\" class=\"dataframe\">\n",
       "  <thead>\n",
       "    <tr style=\"text-align: right;\">\n",
       "      <th></th>\n",
       "      <th>Unnamed: 0</th>\n",
       "      <th>title</th>\n",
       "      <th>text</th>\n",
       "      <th>label</th>\n",
       "    </tr>\n",
       "  </thead>\n",
       "  <tbody>\n",
       "    <tr>\n",
       "      <th>0</th>\n",
       "      <td>8476</td>\n",
       "      <td>You Can Smell Hillary’s Fear</td>\n",
       "      <td>Daniel Greenfield, a Shillman Journalism Fello...</td>\n",
       "      <td>FAKE</td>\n",
       "    </tr>\n",
       "    <tr>\n",
       "      <th>1</th>\n",
       "      <td>10294</td>\n",
       "      <td>Watch The Exact Moment Paul Ryan Committed Pol...</td>\n",
       "      <td>Google Pinterest Digg Linkedin Reddit Stumbleu...</td>\n",
       "      <td>FAKE</td>\n",
       "    </tr>\n",
       "    <tr>\n",
       "      <th>2</th>\n",
       "      <td>3608</td>\n",
       "      <td>Kerry to go to Paris in gesture of sympathy</td>\n",
       "      <td>U.S. Secretary of State John F. Kerry said Mon...</td>\n",
       "      <td>REAL</td>\n",
       "    </tr>\n",
       "    <tr>\n",
       "      <th>3</th>\n",
       "      <td>10142</td>\n",
       "      <td>Bernie supporters on Twitter erupt in anger ag...</td>\n",
       "      <td>— Kaydee King (@KaydeeKing) November 9, 2016 T...</td>\n",
       "      <td>FAKE</td>\n",
       "    </tr>\n",
       "    <tr>\n",
       "      <th>4</th>\n",
       "      <td>875</td>\n",
       "      <td>The Battle of New York: Why This Primary Matters</td>\n",
       "      <td>It's primary day in New York and front-runners...</td>\n",
       "      <td>REAL</td>\n",
       "    </tr>\n",
       "  </tbody>\n",
       "</table>\n",
       "</div>"
      ],
      "text/plain": [
       "   Unnamed: 0                                              title  \\\n",
       "0        8476                       You Can Smell Hillary’s Fear   \n",
       "1       10294  Watch The Exact Moment Paul Ryan Committed Pol...   \n",
       "2        3608        Kerry to go to Paris in gesture of sympathy   \n",
       "3       10142  Bernie supporters on Twitter erupt in anger ag...   \n",
       "4         875   The Battle of New York: Why This Primary Matters   \n",
       "\n",
       "                                                text label  \n",
       "0  Daniel Greenfield, a Shillman Journalism Fello...  FAKE  \n",
       "1  Google Pinterest Digg Linkedin Reddit Stumbleu...  FAKE  \n",
       "2  U.S. Secretary of State John F. Kerry said Mon...  REAL  \n",
       "3  — Kaydee King (@KaydeeKing) November 9, 2016 T...  FAKE  \n",
       "4  It's primary day in New York and front-runners...  REAL  "
      ]
     },
     "execution_count": 4,
     "metadata": {},
     "output_type": "execute_result"
    }
   ],
   "source": [
    "#Get first five rows of the dataset\n",
    "df.head()"
   ]
  },
  {
   "cell_type": "code",
   "execution_count": 5,
   "id": "78888f6e",
   "metadata": {
    "execution": {
     "iopub.execute_input": "2021-12-13T06:42:24.568383Z",
     "iopub.status.busy": "2021-12-13T06:42:24.567542Z",
     "iopub.status.idle": "2021-12-13T06:42:24.582267Z",
     "shell.execute_reply": "2021-12-13T06:42:24.582851Z",
     "shell.execute_reply.started": "2021-12-13T06:40:55.057603Z"
    },
    "papermill": {
     "duration": 0.088534,
     "end_time": "2021-12-13T06:42:24.583043",
     "exception": false,
     "start_time": "2021-12-13T06:42:24.494509",
     "status": "completed"
    },
    "tags": []
   },
   "outputs": [
    {
     "data": {
      "text/html": [
       "<div>\n",
       "<style scoped>\n",
       "    .dataframe tbody tr th:only-of-type {\n",
       "        vertical-align: middle;\n",
       "    }\n",
       "\n",
       "    .dataframe tbody tr th {\n",
       "        vertical-align: top;\n",
       "    }\n",
       "\n",
       "    .dataframe thead th {\n",
       "        text-align: right;\n",
       "    }\n",
       "</style>\n",
       "<table border=\"1\" class=\"dataframe\">\n",
       "  <thead>\n",
       "    <tr style=\"text-align: right;\">\n",
       "      <th></th>\n",
       "      <th>Unnamed: 0</th>\n",
       "      <th>title</th>\n",
       "      <th>text</th>\n",
       "      <th>label</th>\n",
       "    </tr>\n",
       "  </thead>\n",
       "  <tbody>\n",
       "    <tr>\n",
       "      <th>6330</th>\n",
       "      <td>4490</td>\n",
       "      <td>State Department says it can't find emails fro...</td>\n",
       "      <td>The State Department told the Republican Natio...</td>\n",
       "      <td>REAL</td>\n",
       "    </tr>\n",
       "    <tr>\n",
       "      <th>6331</th>\n",
       "      <td>8062</td>\n",
       "      <td>The ‘P’ in PBS Should Stand for ‘Plutocratic’ ...</td>\n",
       "      <td>The ‘P’ in PBS Should Stand for ‘Plutocratic’ ...</td>\n",
       "      <td>FAKE</td>\n",
       "    </tr>\n",
       "    <tr>\n",
       "      <th>6332</th>\n",
       "      <td>8622</td>\n",
       "      <td>Anti-Trump Protesters Are Tools of the Oligarc...</td>\n",
       "      <td>Anti-Trump Protesters Are Tools of the Oligar...</td>\n",
       "      <td>FAKE</td>\n",
       "    </tr>\n",
       "    <tr>\n",
       "      <th>6333</th>\n",
       "      <td>4021</td>\n",
       "      <td>In Ethiopia, Obama seeks progress on peace, se...</td>\n",
       "      <td>ADDIS ABABA, Ethiopia —President Obama convene...</td>\n",
       "      <td>REAL</td>\n",
       "    </tr>\n",
       "    <tr>\n",
       "      <th>6334</th>\n",
       "      <td>4330</td>\n",
       "      <td>Jeb Bush Is Suddenly Attacking Trump. Here's W...</td>\n",
       "      <td>Jeb Bush Is Suddenly Attacking Trump. Here's W...</td>\n",
       "      <td>REAL</td>\n",
       "    </tr>\n",
       "  </tbody>\n",
       "</table>\n",
       "</div>"
      ],
      "text/plain": [
       "      Unnamed: 0                                              title  \\\n",
       "6330        4490  State Department says it can't find emails fro...   \n",
       "6331        8062  The ‘P’ in PBS Should Stand for ‘Plutocratic’ ...   \n",
       "6332        8622  Anti-Trump Protesters Are Tools of the Oligarc...   \n",
       "6333        4021  In Ethiopia, Obama seeks progress on peace, se...   \n",
       "6334        4330  Jeb Bush Is Suddenly Attacking Trump. Here's W...   \n",
       "\n",
       "                                                   text label  \n",
       "6330  The State Department told the Republican Natio...  REAL  \n",
       "6331  The ‘P’ in PBS Should Stand for ‘Plutocratic’ ...  FAKE  \n",
       "6332   Anti-Trump Protesters Are Tools of the Oligar...  FAKE  \n",
       "6333  ADDIS ABABA, Ethiopia —President Obama convene...  REAL  \n",
       "6334  Jeb Bush Is Suddenly Attacking Trump. Here's W...  REAL  "
      ]
     },
     "execution_count": 5,
     "metadata": {},
     "output_type": "execute_result"
    }
   ],
   "source": [
    "#Get last five rows of the dataset\n",
    "df.tail()"
   ]
  },
  {
   "cell_type": "markdown",
   "id": "d196ff20",
   "metadata": {
    "papermill": {
     "duration": 0.046311,
     "end_time": "2021-12-13T06:42:24.671638",
     "exception": false,
     "start_time": "2021-12-13T06:42:24.625327",
     "status": "completed"
    },
    "tags": []
   },
   "source": [
    "Step 4: Checking for null values or missing values"
   ]
  },
  {
   "cell_type": "code",
   "execution_count": 6,
   "id": "bc2cd9ba",
   "metadata": {
    "execution": {
     "iopub.execute_input": "2021-12-13T06:42:24.779847Z",
     "iopub.status.busy": "2021-12-13T06:42:24.779126Z",
     "iopub.status.idle": "2021-12-13T06:42:24.793752Z",
     "shell.execute_reply": "2021-12-13T06:42:24.793127Z",
     "shell.execute_reply.started": "2021-12-13T06:40:55.069110Z"
    },
    "papermill": {
     "duration": 0.071275,
     "end_time": "2021-12-13T06:42:24.793896",
     "exception": false,
     "start_time": "2021-12-13T06:42:24.722621",
     "status": "completed"
    },
    "tags": []
   },
   "outputs": [
    {
     "data": {
      "text/html": [
       "<div>\n",
       "<style scoped>\n",
       "    .dataframe tbody tr th:only-of-type {\n",
       "        vertical-align: middle;\n",
       "    }\n",
       "\n",
       "    .dataframe tbody tr th {\n",
       "        vertical-align: top;\n",
       "    }\n",
       "\n",
       "    .dataframe thead th {\n",
       "        text-align: right;\n",
       "    }\n",
       "</style>\n",
       "<table border=\"1\" class=\"dataframe\">\n",
       "  <thead>\n",
       "    <tr style=\"text-align: right;\">\n",
       "      <th></th>\n",
       "      <th>Unnamed: 0</th>\n",
       "      <th>title</th>\n",
       "      <th>text</th>\n",
       "      <th>label</th>\n",
       "    </tr>\n",
       "  </thead>\n",
       "  <tbody>\n",
       "    <tr>\n",
       "      <th>0</th>\n",
       "      <td>False</td>\n",
       "      <td>False</td>\n",
       "      <td>False</td>\n",
       "      <td>False</td>\n",
       "    </tr>\n",
       "    <tr>\n",
       "      <th>1</th>\n",
       "      <td>False</td>\n",
       "      <td>False</td>\n",
       "      <td>False</td>\n",
       "      <td>False</td>\n",
       "    </tr>\n",
       "    <tr>\n",
       "      <th>2</th>\n",
       "      <td>False</td>\n",
       "      <td>False</td>\n",
       "      <td>False</td>\n",
       "      <td>False</td>\n",
       "    </tr>\n",
       "    <tr>\n",
       "      <th>3</th>\n",
       "      <td>False</td>\n",
       "      <td>False</td>\n",
       "      <td>False</td>\n",
       "      <td>False</td>\n",
       "    </tr>\n",
       "    <tr>\n",
       "      <th>4</th>\n",
       "      <td>False</td>\n",
       "      <td>False</td>\n",
       "      <td>False</td>\n",
       "      <td>False</td>\n",
       "    </tr>\n",
       "    <tr>\n",
       "      <th>...</th>\n",
       "      <td>...</td>\n",
       "      <td>...</td>\n",
       "      <td>...</td>\n",
       "      <td>...</td>\n",
       "    </tr>\n",
       "    <tr>\n",
       "      <th>6330</th>\n",
       "      <td>False</td>\n",
       "      <td>False</td>\n",
       "      <td>False</td>\n",
       "      <td>False</td>\n",
       "    </tr>\n",
       "    <tr>\n",
       "      <th>6331</th>\n",
       "      <td>False</td>\n",
       "      <td>False</td>\n",
       "      <td>False</td>\n",
       "      <td>False</td>\n",
       "    </tr>\n",
       "    <tr>\n",
       "      <th>6332</th>\n",
       "      <td>False</td>\n",
       "      <td>False</td>\n",
       "      <td>False</td>\n",
       "      <td>False</td>\n",
       "    </tr>\n",
       "    <tr>\n",
       "      <th>6333</th>\n",
       "      <td>False</td>\n",
       "      <td>False</td>\n",
       "      <td>False</td>\n",
       "      <td>False</td>\n",
       "    </tr>\n",
       "    <tr>\n",
       "      <th>6334</th>\n",
       "      <td>False</td>\n",
       "      <td>False</td>\n",
       "      <td>False</td>\n",
       "      <td>False</td>\n",
       "    </tr>\n",
       "  </tbody>\n",
       "</table>\n",
       "<p>6335 rows × 4 columns</p>\n",
       "</div>"
      ],
      "text/plain": [
       "      Unnamed: 0  title   text  label\n",
       "0          False  False  False  False\n",
       "1          False  False  False  False\n",
       "2          False  False  False  False\n",
       "3          False  False  False  False\n",
       "4          False  False  False  False\n",
       "...          ...    ...    ...    ...\n",
       "6330       False  False  False  False\n",
       "6331       False  False  False  False\n",
       "6332       False  False  False  False\n",
       "6333       False  False  False  False\n",
       "6334       False  False  False  False\n",
       "\n",
       "[6335 rows x 4 columns]"
      ]
     },
     "execution_count": 6,
     "metadata": {},
     "output_type": "execute_result"
    }
   ],
   "source": [
    "df.isnull()"
   ]
  },
  {
   "cell_type": "code",
   "execution_count": 7,
   "id": "ebb56a1f",
   "metadata": {
    "execution": {
     "iopub.execute_input": "2021-12-13T06:42:24.899431Z",
     "iopub.status.busy": "2021-12-13T06:42:24.898700Z",
     "iopub.status.idle": "2021-12-13T06:42:24.904803Z",
     "shell.execute_reply": "2021-12-13T06:42:24.905427Z",
     "shell.execute_reply.started": "2021-12-13T06:40:55.101337Z"
    },
    "papermill": {
     "duration": 0.063767,
     "end_time": "2021-12-13T06:42:24.905592",
     "exception": false,
     "start_time": "2021-12-13T06:42:24.841825",
     "status": "completed"
    },
    "tags": []
   },
   "outputs": [
    {
     "data": {
      "text/plain": [
       "Unnamed: 0    0\n",
       "title         0\n",
       "text          0\n",
       "label         0\n",
       "dtype: int64"
      ]
     },
     "execution_count": 7,
     "metadata": {},
     "output_type": "execute_result"
    }
   ],
   "source": [
    "df.isnull().sum()"
   ]
  },
  {
   "cell_type": "markdown",
   "id": "3839113d",
   "metadata": {
    "papermill": {
     "duration": 0.048987,
     "end_time": "2021-12-13T06:42:25.002345",
     "exception": false,
     "start_time": "2021-12-13T06:42:24.953358",
     "status": "completed"
    },
    "tags": []
   },
   "source": [
    "Step 5: Plotting the dataset"
   ]
  },
  {
   "cell_type": "markdown",
   "id": "16da04be",
   "metadata": {
    "papermill": {
     "duration": 0.029328,
     "end_time": "2021-12-13T06:42:25.079261",
     "exception": false,
     "start_time": "2021-12-13T06:42:25.049933",
     "status": "completed"
    },
    "tags": []
   },
   "source": [
    "- Since we cant plot text data we will plot bar chart of the count of the Fake vs Real"
   ]
  },
  {
   "cell_type": "code",
   "execution_count": 8,
   "id": "0e2d6f98",
   "metadata": {
    "execution": {
     "iopub.execute_input": "2021-12-13T06:42:25.146304Z",
     "iopub.status.busy": "2021-12-13T06:42:25.145761Z",
     "iopub.status.idle": "2021-12-13T06:42:25.149842Z",
     "shell.execute_reply": "2021-12-13T06:42:25.150292Z",
     "shell.execute_reply.started": "2021-12-13T06:40:55.125688Z"
    },
    "papermill": {
     "duration": 0.042029,
     "end_time": "2021-12-13T06:42:25.150437",
     "exception": false,
     "start_time": "2021-12-13T06:42:25.108408",
     "status": "completed"
    },
    "tags": []
   },
   "outputs": [
    {
     "data": {
      "text/plain": [
       "0       FAKE\n",
       "1       FAKE\n",
       "2       REAL\n",
       "3       FAKE\n",
       "4       REAL\n",
       "        ... \n",
       "6330    REAL\n",
       "6331    FAKE\n",
       "6332    FAKE\n",
       "6333    REAL\n",
       "6334    REAL\n",
       "Name: label, Length: 6335, dtype: object"
      ]
     },
     "execution_count": 8,
     "metadata": {},
     "output_type": "execute_result"
    }
   ],
   "source": [
    "df.label"
   ]
  },
  {
   "cell_type": "code",
   "execution_count": 9,
   "id": "3bfcf8a3",
   "metadata": {
    "execution": {
     "iopub.execute_input": "2021-12-13T06:42:25.218282Z",
     "iopub.status.busy": "2021-12-13T06:42:25.217645Z",
     "iopub.status.idle": "2021-12-13T06:42:25.220214Z",
     "shell.execute_reply": "2021-12-13T06:42:25.220627Z",
     "shell.execute_reply.started": "2021-12-13T06:40:55.142077Z"
    },
    "papermill": {
     "duration": 0.040306,
     "end_time": "2021-12-13T06:42:25.220746",
     "exception": false,
     "start_time": "2021-12-13T06:42:25.180440",
     "status": "completed"
    },
    "tags": []
   },
   "outputs": [
    {
     "data": {
      "text/plain": [
       "REAL    3171\n",
       "FAKE    3164\n",
       "Name: label, dtype: int64"
      ]
     },
     "execution_count": 9,
     "metadata": {},
     "output_type": "execute_result"
    }
   ],
   "source": [
    "df.label.value_counts()"
   ]
  },
  {
   "cell_type": "code",
   "execution_count": 10,
   "id": "9bfab8fa",
   "metadata": {
    "execution": {
     "iopub.execute_input": "2021-12-13T06:42:25.286302Z",
     "iopub.status.busy": "2021-12-13T06:42:25.284748Z",
     "iopub.status.idle": "2021-12-13T06:42:25.286877Z",
     "shell.execute_reply": "2021-12-13T06:42:25.287316Z",
     "shell.execute_reply.started": "2021-12-13T06:40:55.163761Z"
    },
    "papermill": {
     "duration": 0.037354,
     "end_time": "2021-12-13T06:42:25.287434",
     "exception": false,
     "start_time": "2021-12-13T06:42:25.250080",
     "status": "completed"
    },
    "tags": []
   },
   "outputs": [],
   "source": [
    "i=df.label.value_counts()"
   ]
  },
  {
   "cell_type": "code",
   "execution_count": 11,
   "id": "0a3123b8",
   "metadata": {
    "execution": {
     "iopub.execute_input": "2021-12-13T06:42:25.350422Z",
     "iopub.status.busy": "2021-12-13T06:42:25.349845Z",
     "iopub.status.idle": "2021-12-13T06:42:25.441327Z",
     "shell.execute_reply": "2021-12-13T06:42:25.440882Z",
     "shell.execute_reply.started": "2021-12-13T06:40:55.174755Z"
    },
    "papermill": {
     "duration": 0.124661,
     "end_time": "2021-12-13T06:42:25.441438",
     "exception": false,
     "start_time": "2021-12-13T06:42:25.316777",
     "status": "completed"
    },
    "tags": []
   },
   "outputs": [
    {
     "data": {
      "text/html": [
       "        <script type=\"text/javascript\">\n",
       "        window.PlotlyConfig = {MathJaxConfig: 'local'};\n",
       "        if (window.MathJax) {MathJax.Hub.Config({SVG: {font: \"STIX-Web\"}});}\n",
       "        if (typeof require !== 'undefined') {\n",
       "        require.undef(\"plotly\");\n",
       "        requirejs.config({\n",
       "            paths: {\n",
       "                'plotly': ['https://cdn.plot.ly/plotly-2.6.3.min']\n",
       "            }\n",
       "        });\n",
       "        require(['plotly'], function(Plotly) {\n",
       "            window._Plotly = Plotly;\n",
       "        });\n",
       "        }\n",
       "        </script>\n",
       "        "
      ]
     },
     "metadata": {},
     "output_type": "display_data"
    },
    {
     "data": {
      "text/html": [
       "<div>                            <div id=\"7c94692b-0961-4118-b210-274cf7727272\" class=\"plotly-graph-div\" style=\"height:525px; width:100%;\"></div>            <script type=\"text/javascript\">                require([\"plotly\"], function(Plotly) {                    window.PLOTLYENV=window.PLOTLYENV || {};                                    if (document.getElementById(\"7c94692b-0961-4118-b210-274cf7727272\")) {                    Plotly.newPlot(                        \"7c94692b-0961-4118-b210-274cf7727272\",                        [{\"text\":[3171.0,3164.0],\"textposition\":\"auto\",\"x\":[\"Real\",\"Fake\"],\"y\":[3171,3164],\"type\":\"bar\"}],                        {\"template\":{\"data\":{\"bar\":[{\"error_x\":{\"color\":\"#2a3f5f\"},\"error_y\":{\"color\":\"#2a3f5f\"},\"marker\":{\"line\":{\"color\":\"#E5ECF6\",\"width\":0.5},\"pattern\":{\"fillmode\":\"overlay\",\"size\":10,\"solidity\":0.2}},\"type\":\"bar\"}],\"barpolar\":[{\"marker\":{\"line\":{\"color\":\"#E5ECF6\",\"width\":0.5},\"pattern\":{\"fillmode\":\"overlay\",\"size\":10,\"solidity\":0.2}},\"type\":\"barpolar\"}],\"carpet\":[{\"aaxis\":{\"endlinecolor\":\"#2a3f5f\",\"gridcolor\":\"white\",\"linecolor\":\"white\",\"minorgridcolor\":\"white\",\"startlinecolor\":\"#2a3f5f\"},\"baxis\":{\"endlinecolor\":\"#2a3f5f\",\"gridcolor\":\"white\",\"linecolor\":\"white\",\"minorgridcolor\":\"white\",\"startlinecolor\":\"#2a3f5f\"},\"type\":\"carpet\"}],\"choropleth\":[{\"colorbar\":{\"outlinewidth\":0,\"ticks\":\"\"},\"type\":\"choropleth\"}],\"contour\":[{\"colorbar\":{\"outlinewidth\":0,\"ticks\":\"\"},\"colorscale\":[[0.0,\"#0d0887\"],[0.1111111111111111,\"#46039f\"],[0.2222222222222222,\"#7201a8\"],[0.3333333333333333,\"#9c179e\"],[0.4444444444444444,\"#bd3786\"],[0.5555555555555556,\"#d8576b\"],[0.6666666666666666,\"#ed7953\"],[0.7777777777777778,\"#fb9f3a\"],[0.8888888888888888,\"#fdca26\"],[1.0,\"#f0f921\"]],\"type\":\"contour\"}],\"contourcarpet\":[{\"colorbar\":{\"outlinewidth\":0,\"ticks\":\"\"},\"type\":\"contourcarpet\"}],\"heatmap\":[{\"colorbar\":{\"outlinewidth\":0,\"ticks\":\"\"},\"colorscale\":[[0.0,\"#0d0887\"],[0.1111111111111111,\"#46039f\"],[0.2222222222222222,\"#7201a8\"],[0.3333333333333333,\"#9c179e\"],[0.4444444444444444,\"#bd3786\"],[0.5555555555555556,\"#d8576b\"],[0.6666666666666666,\"#ed7953\"],[0.7777777777777778,\"#fb9f3a\"],[0.8888888888888888,\"#fdca26\"],[1.0,\"#f0f921\"]],\"type\":\"heatmap\"}],\"heatmapgl\":[{\"colorbar\":{\"outlinewidth\":0,\"ticks\":\"\"},\"colorscale\":[[0.0,\"#0d0887\"],[0.1111111111111111,\"#46039f\"],[0.2222222222222222,\"#7201a8\"],[0.3333333333333333,\"#9c179e\"],[0.4444444444444444,\"#bd3786\"],[0.5555555555555556,\"#d8576b\"],[0.6666666666666666,\"#ed7953\"],[0.7777777777777778,\"#fb9f3a\"],[0.8888888888888888,\"#fdca26\"],[1.0,\"#f0f921\"]],\"type\":\"heatmapgl\"}],\"histogram\":[{\"marker\":{\"pattern\":{\"fillmode\":\"overlay\",\"size\":10,\"solidity\":0.2}},\"type\":\"histogram\"}],\"histogram2d\":[{\"colorbar\":{\"outlinewidth\":0,\"ticks\":\"\"},\"colorscale\":[[0.0,\"#0d0887\"],[0.1111111111111111,\"#46039f\"],[0.2222222222222222,\"#7201a8\"],[0.3333333333333333,\"#9c179e\"],[0.4444444444444444,\"#bd3786\"],[0.5555555555555556,\"#d8576b\"],[0.6666666666666666,\"#ed7953\"],[0.7777777777777778,\"#fb9f3a\"],[0.8888888888888888,\"#fdca26\"],[1.0,\"#f0f921\"]],\"type\":\"histogram2d\"}],\"histogram2dcontour\":[{\"colorbar\":{\"outlinewidth\":0,\"ticks\":\"\"},\"colorscale\":[[0.0,\"#0d0887\"],[0.1111111111111111,\"#46039f\"],[0.2222222222222222,\"#7201a8\"],[0.3333333333333333,\"#9c179e\"],[0.4444444444444444,\"#bd3786\"],[0.5555555555555556,\"#d8576b\"],[0.6666666666666666,\"#ed7953\"],[0.7777777777777778,\"#fb9f3a\"],[0.8888888888888888,\"#fdca26\"],[1.0,\"#f0f921\"]],\"type\":\"histogram2dcontour\"}],\"mesh3d\":[{\"colorbar\":{\"outlinewidth\":0,\"ticks\":\"\"},\"type\":\"mesh3d\"}],\"parcoords\":[{\"line\":{\"colorbar\":{\"outlinewidth\":0,\"ticks\":\"\"}},\"type\":\"parcoords\"}],\"pie\":[{\"automargin\":true,\"type\":\"pie\"}],\"scatter\":[{\"marker\":{\"colorbar\":{\"outlinewidth\":0,\"ticks\":\"\"}},\"type\":\"scatter\"}],\"scatter3d\":[{\"line\":{\"colorbar\":{\"outlinewidth\":0,\"ticks\":\"\"}},\"marker\":{\"colorbar\":{\"outlinewidth\":0,\"ticks\":\"\"}},\"type\":\"scatter3d\"}],\"scattercarpet\":[{\"marker\":{\"colorbar\":{\"outlinewidth\":0,\"ticks\":\"\"}},\"type\":\"scattercarpet\"}],\"scattergeo\":[{\"marker\":{\"colorbar\":{\"outlinewidth\":0,\"ticks\":\"\"}},\"type\":\"scattergeo\"}],\"scattergl\":[{\"marker\":{\"colorbar\":{\"outlinewidth\":0,\"ticks\":\"\"}},\"type\":\"scattergl\"}],\"scattermapbox\":[{\"marker\":{\"colorbar\":{\"outlinewidth\":0,\"ticks\":\"\"}},\"type\":\"scattermapbox\"}],\"scatterpolar\":[{\"marker\":{\"colorbar\":{\"outlinewidth\":0,\"ticks\":\"\"}},\"type\":\"scatterpolar\"}],\"scatterpolargl\":[{\"marker\":{\"colorbar\":{\"outlinewidth\":0,\"ticks\":\"\"}},\"type\":\"scatterpolargl\"}],\"scatterternary\":[{\"marker\":{\"colorbar\":{\"outlinewidth\":0,\"ticks\":\"\"}},\"type\":\"scatterternary\"}],\"surface\":[{\"colorbar\":{\"outlinewidth\":0,\"ticks\":\"\"},\"colorscale\":[[0.0,\"#0d0887\"],[0.1111111111111111,\"#46039f\"],[0.2222222222222222,\"#7201a8\"],[0.3333333333333333,\"#9c179e\"],[0.4444444444444444,\"#bd3786\"],[0.5555555555555556,\"#d8576b\"],[0.6666666666666666,\"#ed7953\"],[0.7777777777777778,\"#fb9f3a\"],[0.8888888888888888,\"#fdca26\"],[1.0,\"#f0f921\"]],\"type\":\"surface\"}],\"table\":[{\"cells\":{\"fill\":{\"color\":\"#EBF0F8\"},\"line\":{\"color\":\"white\"}},\"header\":{\"fill\":{\"color\":\"#C8D4E3\"},\"line\":{\"color\":\"white\"}},\"type\":\"table\"}]},\"layout\":{\"annotationdefaults\":{\"arrowcolor\":\"#2a3f5f\",\"arrowhead\":0,\"arrowwidth\":1},\"autotypenumbers\":\"strict\",\"coloraxis\":{\"colorbar\":{\"outlinewidth\":0,\"ticks\":\"\"}},\"colorscale\":{\"diverging\":[[0,\"#8e0152\"],[0.1,\"#c51b7d\"],[0.2,\"#de77ae\"],[0.3,\"#f1b6da\"],[0.4,\"#fde0ef\"],[0.5,\"#f7f7f7\"],[0.6,\"#e6f5d0\"],[0.7,\"#b8e186\"],[0.8,\"#7fbc41\"],[0.9,\"#4d9221\"],[1,\"#276419\"]],\"sequential\":[[0.0,\"#0d0887\"],[0.1111111111111111,\"#46039f\"],[0.2222222222222222,\"#7201a8\"],[0.3333333333333333,\"#9c179e\"],[0.4444444444444444,\"#bd3786\"],[0.5555555555555556,\"#d8576b\"],[0.6666666666666666,\"#ed7953\"],[0.7777777777777778,\"#fb9f3a\"],[0.8888888888888888,\"#fdca26\"],[1.0,\"#f0f921\"]],\"sequentialminus\":[[0.0,\"#0d0887\"],[0.1111111111111111,\"#46039f\"],[0.2222222222222222,\"#7201a8\"],[0.3333333333333333,\"#9c179e\"],[0.4444444444444444,\"#bd3786\"],[0.5555555555555556,\"#d8576b\"],[0.6666666666666666,\"#ed7953\"],[0.7777777777777778,\"#fb9f3a\"],[0.8888888888888888,\"#fdca26\"],[1.0,\"#f0f921\"]]},\"colorway\":[\"#636efa\",\"#EF553B\",\"#00cc96\",\"#ab63fa\",\"#FFA15A\",\"#19d3f3\",\"#FF6692\",\"#B6E880\",\"#FF97FF\",\"#FECB52\"],\"font\":{\"color\":\"#2a3f5f\"},\"geo\":{\"bgcolor\":\"white\",\"lakecolor\":\"white\",\"landcolor\":\"#E5ECF6\",\"showlakes\":true,\"showland\":true,\"subunitcolor\":\"white\"},\"hoverlabel\":{\"align\":\"left\"},\"hovermode\":\"closest\",\"mapbox\":{\"style\":\"light\"},\"paper_bgcolor\":\"white\",\"plot_bgcolor\":\"#E5ECF6\",\"polar\":{\"angularaxis\":{\"gridcolor\":\"white\",\"linecolor\":\"white\",\"ticks\":\"\"},\"bgcolor\":\"#E5ECF6\",\"radialaxis\":{\"gridcolor\":\"white\",\"linecolor\":\"white\",\"ticks\":\"\"}},\"scene\":{\"xaxis\":{\"backgroundcolor\":\"#E5ECF6\",\"gridcolor\":\"white\",\"gridwidth\":2,\"linecolor\":\"white\",\"showbackground\":true,\"ticks\":\"\",\"zerolinecolor\":\"white\"},\"yaxis\":{\"backgroundcolor\":\"#E5ECF6\",\"gridcolor\":\"white\",\"gridwidth\":2,\"linecolor\":\"white\",\"showbackground\":true,\"ticks\":\"\",\"zerolinecolor\":\"white\"},\"zaxis\":{\"backgroundcolor\":\"#E5ECF6\",\"gridcolor\":\"white\",\"gridwidth\":2,\"linecolor\":\"white\",\"showbackground\":true,\"ticks\":\"\",\"zerolinecolor\":\"white\"}},\"shapedefaults\":{\"line\":{\"color\":\"#2a3f5f\"}},\"ternary\":{\"aaxis\":{\"gridcolor\":\"white\",\"linecolor\":\"white\",\"ticks\":\"\"},\"baxis\":{\"gridcolor\":\"white\",\"linecolor\":\"white\",\"ticks\":\"\"},\"bgcolor\":\"#E5ECF6\",\"caxis\":{\"gridcolor\":\"white\",\"linecolor\":\"white\",\"ticks\":\"\"}},\"title\":{\"x\":0.05},\"xaxis\":{\"automargin\":true,\"gridcolor\":\"white\",\"linecolor\":\"white\",\"ticks\":\"\",\"title\":{\"standoff\":15},\"zerolinecolor\":\"white\",\"zerolinewidth\":2},\"yaxis\":{\"automargin\":true,\"gridcolor\":\"white\",\"linecolor\":\"white\",\"ticks\":\"\",\"title\":{\"standoff\":15},\"zerolinecolor\":\"white\",\"zerolinewidth\":2}}}},                        {\"responsive\": true}                    ).then(function(){\n",
       "                            \n",
       "var gd = document.getElementById('7c94692b-0961-4118-b210-274cf7727272');\n",
       "var x = new MutationObserver(function (mutations, observer) {{\n",
       "        var display = window.getComputedStyle(gd).display;\n",
       "        if (!display || display === 'none') {{\n",
       "            console.log([gd, 'removed!']);\n",
       "            Plotly.purge(gd);\n",
       "            observer.disconnect();\n",
       "        }}\n",
       "}});\n",
       "\n",
       "// Listen for the removal of the full notebook cells\n",
       "var notebookContainer = gd.closest('#notebook-container');\n",
       "if (notebookContainer) {{\n",
       "    x.observe(notebookContainer, {childList: true});\n",
       "}}\n",
       "\n",
       "// Listen for the clearing of the current output cell\n",
       "var outputEl = gd.closest('.output');\n",
       "if (outputEl) {{\n",
       "    x.observe(outputEl, {childList: true});\n",
       "}}\n",
       "\n",
       "                        })                };                });            </script>        </div>"
      ]
     },
     "metadata": {},
     "output_type": "display_data"
    }
   ],
   "source": [
    "fig = go.Figure(data=[go.Bar(\n",
    "            x=['Real','Fake'], y=i,\n",
    "            text=i,\n",
    "            textposition='auto',\n",
    "        )])\n",
    "\n",
    "fig.show()"
   ]
  },
  {
   "cell_type": "markdown",
   "id": "fc3272b7",
   "metadata": {
    "papermill": {
     "duration": 0.030886,
     "end_time": "2021-12-13T06:42:25.503051",
     "exception": false,
     "start_time": "2021-12-13T06:42:25.472165",
     "status": "completed"
    },
    "tags": []
   },
   "source": [
    "Step 6: Splitting the data into training and testing"
   ]
  },
  {
   "cell_type": "markdown",
   "id": "33bb2ee6",
   "metadata": {
    "papermill": {
     "duration": 0.030635,
     "end_time": "2021-12-13T06:42:25.564486",
     "exception": false,
     "start_time": "2021-12-13T06:42:25.533851",
     "status": "completed"
    },
    "tags": []
   },
   "source": [
    "- Here we will drop the Unamed 0 and title of the news"
   ]
  },
  {
   "cell_type": "code",
   "execution_count": 12,
   "id": "4c8a414d",
   "metadata": {
    "execution": {
     "iopub.execute_input": "2021-12-13T06:42:25.631298Z",
     "iopub.status.busy": "2021-12-13T06:42:25.630725Z",
     "iopub.status.idle": "2021-12-13T06:42:25.636546Z",
     "shell.execute_reply": "2021-12-13T06:42:25.636121Z",
     "shell.execute_reply.started": "2021-12-13T06:40:55.276331Z"
    },
    "papermill": {
     "duration": 0.040638,
     "end_time": "2021-12-13T06:42:25.636647",
     "exception": false,
     "start_time": "2021-12-13T06:42:25.596009",
     "status": "completed"
    },
    "tags": []
   },
   "outputs": [],
   "source": [
    "X_train,X_test,y_train,y_test=train_test_split(df['text'], df.label, test_size=0.2, random_state=7)"
   ]
  },
  {
   "cell_type": "code",
   "execution_count": 13,
   "id": "fe200489",
   "metadata": {
    "execution": {
     "iopub.execute_input": "2021-12-13T06:42:25.706585Z",
     "iopub.status.busy": "2021-12-13T06:42:25.705671Z",
     "iopub.status.idle": "2021-12-13T06:42:25.708845Z",
     "shell.execute_reply": "2021-12-13T06:42:25.709316Z",
     "shell.execute_reply.started": "2021-12-13T06:40:55.288648Z"
    },
    "papermill": {
     "duration": 0.042039,
     "end_time": "2021-12-13T06:42:25.709472",
     "exception": false,
     "start_time": "2021-12-13T06:42:25.667433",
     "status": "completed"
    },
    "tags": []
   },
   "outputs": [
    {
     "data": {
      "text/plain": [
       "6237    The head of a leading survivalist group has ma...\n",
       "3722    ‹ › Arnaldo Rodgers is a trained and educated ...\n",
       "5774    Patty Sanchez, 51, used to eat 13,000 calories...\n",
       "336     But Benjamin Netanyahu’s reelection was regard...\n",
       "3622    John Kasich was killing it with these Iowa vot...\n",
       "                              ...                        \n",
       "5699                                                     \n",
       "2550    It’s not that Americans won’t elect wealthy pr...\n",
       "537     Anyone writing sentences like ‘nevertheless fu...\n",
       "1220    More Catholics are in Congress than ever befor...\n",
       "4271    It was hosted by CNN, and the presentation was...\n",
       "Name: text, Length: 5068, dtype: object"
      ]
     },
     "execution_count": 13,
     "metadata": {},
     "output_type": "execute_result"
    }
   ],
   "source": [
    "X_train"
   ]
  },
  {
   "cell_type": "code",
   "execution_count": 14,
   "id": "0941f1af",
   "metadata": {
    "execution": {
     "iopub.execute_input": "2021-12-13T06:42:25.776785Z",
     "iopub.status.busy": "2021-12-13T06:42:25.776157Z",
     "iopub.status.idle": "2021-12-13T06:42:25.778706Z",
     "shell.execute_reply": "2021-12-13T06:42:25.779118Z",
     "shell.execute_reply.started": "2021-12-13T06:40:55.300541Z"
    },
    "papermill": {
     "duration": 0.037524,
     "end_time": "2021-12-13T06:42:25.779234",
     "exception": false,
     "start_time": "2021-12-13T06:42:25.741710",
     "status": "completed"
    },
    "tags": []
   },
   "outputs": [
    {
     "data": {
      "text/plain": [
       "(5068,)"
      ]
     },
     "execution_count": 14,
     "metadata": {},
     "output_type": "execute_result"
    }
   ],
   "source": [
    "X_train.shape"
   ]
  },
  {
   "cell_type": "code",
   "execution_count": 15,
   "id": "560ba74b",
   "metadata": {
    "execution": {
     "iopub.execute_input": "2021-12-13T06:42:25.846674Z",
     "iopub.status.busy": "2021-12-13T06:42:25.846088Z",
     "iopub.status.idle": "2021-12-13T06:42:25.848559Z",
     "shell.execute_reply": "2021-12-13T06:42:25.848950Z",
     "shell.execute_reply.started": "2021-12-13T06:40:55.307614Z"
    },
    "papermill": {
     "duration": 0.038808,
     "end_time": "2021-12-13T06:42:25.849092",
     "exception": false,
     "start_time": "2021-12-13T06:42:25.810284",
     "status": "completed"
    },
    "tags": []
   },
   "outputs": [
    {
     "data": {
      "text/plain": [
       "6237    FAKE\n",
       "3722    FAKE\n",
       "5774    FAKE\n",
       "336     REAL\n",
       "3622    REAL\n",
       "        ... \n",
       "5699    FAKE\n",
       "2550    REAL\n",
       "537     REAL\n",
       "1220    REAL\n",
       "4271    REAL\n",
       "Name: label, Length: 5068, dtype: object"
      ]
     },
     "execution_count": 15,
     "metadata": {},
     "output_type": "execute_result"
    }
   ],
   "source": [
    "y_train"
   ]
  },
  {
   "cell_type": "code",
   "execution_count": 16,
   "id": "0ba4f9fa",
   "metadata": {
    "execution": {
     "iopub.execute_input": "2021-12-13T06:42:25.916009Z",
     "iopub.status.busy": "2021-12-13T06:42:25.915223Z",
     "iopub.status.idle": "2021-12-13T06:42:25.919839Z",
     "shell.execute_reply": "2021-12-13T06:42:25.920252Z",
     "shell.execute_reply.started": "2021-12-13T06:40:55.317868Z"
    },
    "papermill": {
     "duration": 0.038431,
     "end_time": "2021-12-13T06:42:25.920375",
     "exception": false,
     "start_time": "2021-12-13T06:42:25.881944",
     "status": "completed"
    },
    "tags": []
   },
   "outputs": [
    {
     "data": {
      "text/plain": [
       "(5068,)"
      ]
     },
     "execution_count": 16,
     "metadata": {},
     "output_type": "execute_result"
    }
   ],
   "source": [
    "y_train.shape"
   ]
  },
  {
   "cell_type": "code",
   "execution_count": 17,
   "id": "ba56244b",
   "metadata": {
    "execution": {
     "iopub.execute_input": "2021-12-13T06:42:25.988263Z",
     "iopub.status.busy": "2021-12-13T06:42:25.987510Z",
     "iopub.status.idle": "2021-12-13T06:42:25.990833Z",
     "shell.execute_reply": "2021-12-13T06:42:25.990424Z",
     "shell.execute_reply.started": "2021-12-13T06:40:55.326958Z"
    },
    "papermill": {
     "duration": 0.038778,
     "end_time": "2021-12-13T06:42:25.990931",
     "exception": false,
     "start_time": "2021-12-13T06:42:25.952153",
     "status": "completed"
    },
    "tags": []
   },
   "outputs": [
    {
     "data": {
      "text/plain": [
       "(1267,)"
      ]
     },
     "execution_count": 17,
     "metadata": {},
     "output_type": "execute_result"
    }
   ],
   "source": [
    "X_test.shape"
   ]
  },
  {
   "cell_type": "code",
   "execution_count": 18,
   "id": "b38ee932",
   "metadata": {
    "execution": {
     "iopub.execute_input": "2021-12-13T06:42:26.060144Z",
     "iopub.status.busy": "2021-12-13T06:42:26.059488Z",
     "iopub.status.idle": "2021-12-13T06:42:26.062536Z",
     "shell.execute_reply": "2021-12-13T06:42:26.062080Z",
     "shell.execute_reply.started": "2021-12-13T06:40:55.337465Z"
    },
    "papermill": {
     "duration": 0.038974,
     "end_time": "2021-12-13T06:42:26.062635",
     "exception": false,
     "start_time": "2021-12-13T06:42:26.023661",
     "status": "completed"
    },
    "tags": []
   },
   "outputs": [
    {
     "data": {
      "text/plain": [
       "(1267,)"
      ]
     },
     "execution_count": 18,
     "metadata": {},
     "output_type": "execute_result"
    }
   ],
   "source": [
    "y_test.shape"
   ]
  },
  {
   "cell_type": "markdown",
   "id": "d4d7ecac",
   "metadata": {
    "papermill": {
     "duration": 0.032223,
     "end_time": "2021-12-13T06:42:26.127089",
     "exception": false,
     "start_time": "2021-12-13T06:42:26.094866",
     "status": "completed"
    },
    "tags": []
   },
   "source": [
    "Step 7: Initialize a TfidVectorizer "
   ]
  },
  {
   "cell_type": "code",
   "execution_count": 19,
   "id": "89004637",
   "metadata": {
    "execution": {
     "iopub.execute_input": "2021-12-13T06:42:26.196114Z",
     "iopub.status.busy": "2021-12-13T06:42:26.195317Z",
     "iopub.status.idle": "2021-12-13T06:42:26.197277Z",
     "shell.execute_reply": "2021-12-13T06:42:26.197716Z",
     "shell.execute_reply.started": "2021-12-13T06:40:55.345785Z"
    },
    "papermill": {
     "duration": 0.038374,
     "end_time": "2021-12-13T06:42:26.197834",
     "exception": false,
     "start_time": "2021-12-13T06:42:26.159460",
     "status": "completed"
    },
    "tags": []
   },
   "outputs": [],
   "source": [
    "tfidf_vectorizer=TfidfVectorizer(stop_words='english', max_df=0.7)"
   ]
  },
  {
   "cell_type": "markdown",
   "id": "7fc2e770",
   "metadata": {
    "papermill": {
     "duration": 0.032155,
     "end_time": "2021-12-13T06:42:26.262243",
     "exception": false,
     "start_time": "2021-12-13T06:42:26.230088",
     "status": "completed"
    },
    "tags": []
   },
   "source": [
    "Step 8: Fit and Transform training data and testing data"
   ]
  },
  {
   "cell_type": "code",
   "execution_count": 20,
   "id": "f554e2d8",
   "metadata": {
    "execution": {
     "iopub.execute_input": "2021-12-13T06:42:26.351046Z",
     "iopub.status.busy": "2021-12-13T06:42:26.335131Z",
     "iopub.status.idle": "2021-12-13T06:42:30.538911Z",
     "shell.execute_reply": "2021-12-13T06:42:30.539861Z",
     "shell.execute_reply.started": "2021-12-13T06:40:55.353305Z"
    },
    "papermill": {
     "duration": 4.244913,
     "end_time": "2021-12-13T06:42:30.540177",
     "exception": false,
     "start_time": "2021-12-13T06:42:26.295264",
     "status": "completed"
    },
    "tags": []
   },
   "outputs": [],
   "source": [
    "tfidf_train=tfidf_vectorizer.fit_transform(X_train) \n",
    "tfidf_test=tfidf_vectorizer.transform(X_test)"
   ]
  },
  {
   "cell_type": "markdown",
   "id": "323f30e4",
   "metadata": {
    "papermill": {
     "duration": 0.054976,
     "end_time": "2021-12-13T06:42:30.654920",
     "exception": false,
     "start_time": "2021-12-13T06:42:30.599944",
     "status": "completed"
    },
    "tags": []
   },
   "source": [
    "Step 8: Intialize a PassiveAggressiveClassifier"
   ]
  },
  {
   "cell_type": "code",
   "execution_count": 21,
   "id": "3ceeed44",
   "metadata": {
    "execution": {
     "iopub.execute_input": "2021-12-13T06:42:30.766897Z",
     "iopub.status.busy": "2021-12-13T06:42:30.766122Z",
     "iopub.status.idle": "2021-12-13T06:42:30.916952Z",
     "shell.execute_reply": "2021-12-13T06:42:30.917888Z",
     "shell.execute_reply.started": "2021-12-13T06:41:00.466376Z"
    },
    "papermill": {
     "duration": 0.214419,
     "end_time": "2021-12-13T06:42:30.918121",
     "exception": false,
     "start_time": "2021-12-13T06:42:30.703702",
     "status": "completed"
    },
    "tags": []
   },
   "outputs": [
    {
     "data": {
      "text/plain": [
       "PassiveAggressiveClassifier(max_iter=50)"
      ]
     },
     "execution_count": 21,
     "metadata": {},
     "output_type": "execute_result"
    }
   ],
   "source": [
    "pac=PassiveAggressiveClassifier(max_iter=50)\n",
    "pac.fit(tfidf_train,y_train)"
   ]
  },
  {
   "cell_type": "markdown",
   "id": "9a1a775f",
   "metadata": {
    "papermill": {
     "duration": 0.050343,
     "end_time": "2021-12-13T06:42:31.021058",
     "exception": false,
     "start_time": "2021-12-13T06:42:30.970715",
     "status": "completed"
    },
    "tags": []
   },
   "source": [
    "Step 9: Predict on the testing data"
   ]
  },
  {
   "cell_type": "code",
   "execution_count": 22,
   "id": "e26cfd95",
   "metadata": {
    "execution": {
     "iopub.execute_input": "2021-12-13T06:42:31.128332Z",
     "iopub.status.busy": "2021-12-13T06:42:31.127463Z",
     "iopub.status.idle": "2021-12-13T06:42:31.129668Z",
     "shell.execute_reply": "2021-12-13T06:42:31.129044Z",
     "shell.execute_reply.started": "2021-12-13T06:41:00.570090Z"
    },
    "papermill": {
     "duration": 0.061524,
     "end_time": "2021-12-13T06:42:31.129813",
     "exception": false,
     "start_time": "2021-12-13T06:42:31.068289",
     "status": "completed"
    },
    "tags": []
   },
   "outputs": [],
   "source": [
    "y_pred=pac.predict(tfidf_test)"
   ]
  },
  {
   "cell_type": "markdown",
   "id": "3014518a",
   "metadata": {
    "papermill": {
     "duration": 0.054433,
     "end_time": "2021-12-13T06:42:31.239301",
     "exception": false,
     "start_time": "2021-12-13T06:42:31.184868",
     "status": "completed"
    },
    "tags": []
   },
   "source": [
    "Step 10: Finding Accuracy "
   ]
  },
  {
   "cell_type": "code",
   "execution_count": 23,
   "id": "3c59681f",
   "metadata": {
    "execution": {
     "iopub.execute_input": "2021-12-13T06:42:31.356642Z",
     "iopub.status.busy": "2021-12-13T06:42:31.355863Z",
     "iopub.status.idle": "2021-12-13T06:42:31.366169Z",
     "shell.execute_reply": "2021-12-13T06:42:31.366765Z",
     "shell.execute_reply.started": "2021-12-13T06:41:00.577650Z"
    },
    "papermill": {
     "duration": 0.074646,
     "end_time": "2021-12-13T06:42:31.366949",
     "exception": false,
     "start_time": "2021-12-13T06:42:31.292303",
     "status": "completed"
    },
    "tags": []
   },
   "outputs": [
    {
     "name": "stdout",
     "output_type": "stream",
     "text": [
      "Accuracy: 92.34%\n"
     ]
    }
   ],
   "source": [
    "score=accuracy_score(y_test,y_pred)\n",
    "print(f'Accuracy: {round(score*100,2)}%')"
   ]
  },
  {
   "cell_type": "markdown",
   "id": "371eb2bf",
   "metadata": {
    "papermill": {
     "duration": 0.053785,
     "end_time": "2021-12-13T06:42:31.475691",
     "exception": false,
     "start_time": "2021-12-13T06:42:31.421906",
     "status": "completed"
    },
    "tags": []
   },
   "source": [
    "Step 11: Creating Confusion Matrix"
   ]
  },
  {
   "cell_type": "code",
   "execution_count": 24,
   "id": "c757f327",
   "metadata": {
    "execution": {
     "iopub.execute_input": "2021-12-13T06:42:31.600518Z",
     "iopub.status.busy": "2021-12-13T06:42:31.599768Z",
     "iopub.status.idle": "2021-12-13T06:42:31.605376Z",
     "shell.execute_reply": "2021-12-13T06:42:31.606323Z",
     "shell.execute_reply.started": "2021-12-13T06:41:00.591679Z"
    },
    "papermill": {
     "duration": 0.077006,
     "end_time": "2021-12-13T06:42:31.606518",
     "exception": false,
     "start_time": "2021-12-13T06:42:31.529512",
     "status": "completed"
    },
    "tags": []
   },
   "outputs": [
    {
     "data": {
      "text/plain": [
       "array([[587,  51],\n",
       "       [ 46, 583]])"
      ]
     },
     "execution_count": 24,
     "metadata": {},
     "output_type": "execute_result"
    }
   ],
   "source": [
    "#DataFlair - Build confusion matrix\n",
    "confusion_matrix(y_test,y_pred, labels=['FAKE','REAL'])"
   ]
  },
  {
   "cell_type": "markdown",
   "id": "d7bf7abb",
   "metadata": {
    "papermill": {
     "duration": 0.054192,
     "end_time": "2021-12-13T06:42:31.716148",
     "exception": false,
     "start_time": "2021-12-13T06:42:31.661956",
     "status": "completed"
    },
    "tags": []
   },
   "source": [
    "Step 12: Creating Classification Report"
   ]
  },
  {
   "cell_type": "code",
   "execution_count": 25,
   "id": "2b794099",
   "metadata": {
    "execution": {
     "iopub.execute_input": "2021-12-13T06:42:31.789065Z",
     "iopub.status.busy": "2021-12-13T06:42:31.788344Z",
     "iopub.status.idle": "2021-12-13T06:42:31.833737Z",
     "shell.execute_reply": "2021-12-13T06:42:31.833158Z",
     "shell.execute_reply.started": "2021-12-13T06:41:00.612132Z"
    },
    "papermill": {
     "duration": 0.083471,
     "end_time": "2021-12-13T06:42:31.833884",
     "exception": false,
     "start_time": "2021-12-13T06:42:31.750413",
     "status": "completed"
    },
    "tags": []
   },
   "outputs": [
    {
     "name": "stdout",
     "output_type": "stream",
     "text": [
      "\n",
      " clasification report:\n",
      "               precision    recall  f1-score   support\n",
      "\n",
      "        FAKE       0.93      0.92      0.92       638\n",
      "        REAL       0.92      0.93      0.92       629\n",
      "\n",
      "    accuracy                           0.92      1267\n",
      "   macro avg       0.92      0.92      0.92      1267\n",
      "weighted avg       0.92      0.92      0.92      1267\n",
      "\n"
     ]
    }
   ],
   "source": [
    "print('\\n clasification report:\\n',classification_report(y_test,y_pred))"
   ]
  },
  {
   "cell_type": "markdown",
   "id": "b2ece940",
   "metadata": {
    "papermill": {
     "duration": 0.033146,
     "end_time": "2021-12-13T06:42:31.901601",
     "exception": false,
     "start_time": "2021-12-13T06:42:31.868455",
     "status": "completed"
    },
    "tags": []
   },
   "source": [
    "Step 13: Prediction using New data(not from dataset) "
   ]
  },
  {
   "cell_type": "code",
   "execution_count": 26,
   "id": "a149f508",
   "metadata": {
    "execution": {
     "iopub.execute_input": "2021-12-13T06:42:31.973357Z",
     "iopub.status.busy": "2021-12-13T06:42:31.972654Z",
     "iopub.status.idle": "2021-12-13T06:42:31.975166Z",
     "shell.execute_reply": "2021-12-13T06:42:31.974742Z",
     "shell.execute_reply.started": "2021-12-13T06:41:00.659806Z"
    },
    "papermill": {
     "duration": 0.039971,
     "end_time": "2021-12-13T06:42:31.975276",
     "exception": false,
     "start_time": "2021-12-13T06:42:31.935305",
     "status": "completed"
    },
    "tags": []
   },
   "outputs": [],
   "source": [
    "ii=['This is a really important question, Lambert says. “I don’t want to be passed along to two or three people,” she says. “I want one person to contact.” There may be specific contact points for different areas, she adds, such as the director of nursing for related questions. However, “I want to know that I can pop into the executive director’s office anytime, ask any question and make any kind of complaint,” she emphasizes. “I want to know that person is available. Because sometimes, you have to go up to that level.\"\"']"
   ]
  },
  {
   "cell_type": "code",
   "execution_count": 27,
   "id": "00c8d6ed",
   "metadata": {
    "execution": {
     "iopub.execute_input": "2021-12-13T06:42:32.046956Z",
     "iopub.status.busy": "2021-12-13T06:42:32.046172Z",
     "iopub.status.idle": "2021-12-13T06:42:32.049685Z",
     "shell.execute_reply": "2021-12-13T06:42:32.049266Z",
     "shell.execute_reply.started": "2021-12-13T06:41:00.667186Z"
    },
    "papermill": {
     "duration": 0.040685,
     "end_time": "2021-12-13T06:42:32.049784",
     "exception": false,
     "start_time": "2021-12-13T06:42:32.009099",
     "status": "completed"
    },
    "tags": []
   },
   "outputs": [],
   "source": [
    "ii=tfidf_vectorizer.transform(ii)"
   ]
  },
  {
   "cell_type": "code",
   "execution_count": 28,
   "id": "374e2ef5",
   "metadata": {
    "execution": {
     "iopub.execute_input": "2021-12-13T06:42:32.122140Z",
     "iopub.status.busy": "2021-12-13T06:42:32.121476Z",
     "iopub.status.idle": "2021-12-13T06:42:32.123593Z",
     "shell.execute_reply": "2021-12-13T06:42:32.123969Z",
     "shell.execute_reply.started": "2021-12-13T06:41:00.679772Z"
    },
    "papermill": {
     "duration": 0.040351,
     "end_time": "2021-12-13T06:42:32.124118",
     "exception": false,
     "start_time": "2021-12-13T06:42:32.083767",
     "status": "completed"
    },
    "tags": []
   },
   "outputs": [],
   "source": [
    "y_pred=pac.predict(ii)"
   ]
  },
  {
   "cell_type": "code",
   "execution_count": 29,
   "id": "ab0c48b7",
   "metadata": {
    "execution": {
     "iopub.execute_input": "2021-12-13T06:42:32.196615Z",
     "iopub.status.busy": "2021-12-13T06:42:32.195951Z",
     "iopub.status.idle": "2021-12-13T06:42:32.198927Z",
     "shell.execute_reply": "2021-12-13T06:42:32.198439Z",
     "shell.execute_reply.started": "2021-12-13T06:41:00.689914Z"
    },
    "papermill": {
     "duration": 0.041265,
     "end_time": "2021-12-13T06:42:32.199083",
     "exception": false,
     "start_time": "2021-12-13T06:42:32.157818",
     "status": "completed"
    },
    "tags": []
   },
   "outputs": [
    {
     "data": {
      "text/plain": [
       "array(['REAL'], dtype='<U4')"
      ]
     },
     "execution_count": 29,
     "metadata": {},
     "output_type": "execute_result"
    }
   ],
   "source": [
    "y_pred"
   ]
  }
 ],
 "metadata": {
  "kernelspec": {
   "display_name": "Python 3",
   "language": "python",
   "name": "python3"
  },
  "language_info": {
   "codemirror_mode": {
    "name": "ipython",
    "version": 3
   },
   "file_extension": ".py",
   "mimetype": "text/x-python",
   "name": "python",
   "nbconvert_exporter": "python",
   "pygments_lexer": "ipython3",
   "version": "3.7.12"
  },
  "papermill": {
   "default_parameters": {},
   "duration": 18.807712,
   "end_time": "2021-12-13T06:42:32.742100",
   "environment_variables": {},
   "exception": null,
   "input_path": "__notebook__.ipynb",
   "output_path": "__notebook__.ipynb",
   "parameters": {},
   "start_time": "2021-12-13T06:42:13.934388",
   "version": "2.3.3"
  }
 },
 "nbformat": 4,
 "nbformat_minor": 5
}
